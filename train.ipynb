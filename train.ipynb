{
	"cells": [
		{
			"cell_type": "markdown",
			"metadata": {},
			"source": [
				"# Training"
			]
		},
		{
			"cell_type": "code",
			"execution_count": 1,
			"metadata": {},
			"outputs": [],
			"source": [
				"# Import our model\n",
				"from model import MVP, LSTM_MVP\n",
				"\n",
				"# Libraries for the data\n",
				"import pandas as pd\n",
				"\n",
				"import numpy as np\n",
				"import torch\n",
				"import torch.nn as nn\n",
				"\n",
				"# Get the sector tickers\n",
				"from sector import *\n",
				"\n",
				"# Process the data\n",
				"from sklearn.model_selection import train_test_split\n",
				"from sklearn.preprocessing import StandardScaler\n",
				"\n",
				"device = torch.device('cpu')  # CPU\n"
			]
		},
		{
			"cell_type": "code",
			"execution_count": 2,
			"metadata": {},
			"outputs": [],
			"source": [
				"# Builds two dictionaries of the tickers and descriptions from the sectors csvs\n",
				"tks = get_ticker_dict(sectors)\n",
				"descs = get_desc_dict(sectors)"
			]
		},
		{
			"cell_type": "markdown",
			"metadata": {},
			"source": [
				"Get our data"
			]
		},
		{
			"cell_type": "code",
			"execution_count": 3,
			"metadata": {},
			"outputs": [],
			"source": [
				"# Load the data of the stocks of the tkrs within the ./data folder. Use the data as the index.\n",
				"sectors_data = {}\n",
				"for k in tks.keys():\n",
				"    sectors_data[k] = pd.read_csv('./data/sectors/{}_7yr_daily.csv'.format(k))\n",
				"    sectors_data[k].index = pd.to_datetime(sectors_data[k][\"date\"])\n",
				"    # Drop ticker, descr, date.\n",
				"    sectors_data[k].drop(['ticker', 'descr', 'date'], axis=1, inplace=True)"
			]
		},
		{
			"cell_type": "code",
			"execution_count": 4,
			"metadata": {},
			"outputs": [],
			"source": [
				"# Repicate the data structuring procedure from above onto the S&P 500 data.\n",
				"sp5 = pd.read_csv('data/sectors/SP500_7yr_daily.csv')\n",
				"sp5.index = pd.to_datetime(sp5[\"date\"])\n",
				"sp5.drop(['ticker', 'descr', 'date'], axis=1, inplace=True)\n",
				"labels = pd.read_csv('data/sectors/sector_labels.csv')\n",
				"labels.index = pd.to_datetime(labels[\"date\"])\n",
				"labels.drop('date', axis=1, inplace=True)\n",
				"labels.drop('Unnamed: 0', axis=1, inplace=True)"
			]
		},
		{
			"cell_type": "code",
			"execution_count": 5,
			"metadata": {},
			"outputs": [],
			"source": [
				"# Array of keys in dictionary, in order.\n",
				"ordering = []\n",
				"for k in sectors_data.keys():\n",
				"    ordering += [k]"
			]
		},
		{
			"cell_type": "code",
			"execution_count": 6,
			"metadata": {},
			"outputs": [],
			"source": [
				"'''\n",
				"converts a dataframe to be valid input data and labels by lining up dates and adding a row of data for each sector (and the S&P)\n",
				"'''\n",
				"def data_to_XY(sectors, sp5, labels):\n",
				"    closest_date = None\n",
				"    \n",
				"    # 1 entry for every month date\n",
				"    stacks = len(labels)\n",
				"    # Number of stocks (sectors & the SP500)\n",
				"    stack_height = len(sectors.keys()) + 1 \n",
				"    # 1 col for every feature (subtract ticker column and description column)\n",
				"    stack_width = len(sectors[\"XLB\"].columns)\n",
				"    \n",
				"    X = torch.zeros((stacks, stack_height, stack_width), dtype=torch.float64)\n",
				"    \n",
				"    # Go through dates and gather rows of each sector & sp5\n",
				"    for i, date in enumerate(labels.index):\n",
				"        newdf = sp5.index[sp5.index <= date]\n",
				"\n",
				"        ### Add SP5 data to row\n",
				"        # Get the last date before the new month\n",
				"        closest_date = newdf.values[-1]\n",
				"        \n",
				"        # Do i need to deep copy here?\n",
				"        row = torch.zeros((stack_width))\n",
				"        row[0:2] = torch.tensor(sp5.iloc[sp5.index == closest_date].values[0])\n",
				"        X[i,0] = row\n",
				"        \n",
				"        row_counter = 0\n",
				"        ### Add sectors' data to row\n",
				"        for k in sectors.keys():\n",
				"            sector = sectors[k]\n",
				"            row_counter += 1\n",
				"            sector_row = torch.zeros((stack_width))\n",
				"            \n",
				"            # Already have the last date, make sure the sectors align with that date (have a row of information for each date)\n",
				"            # If the sector started at a date beyond our last date, ignore it (all 0s)\n",
				"            if sector.index.values[0] > closest_date:\n",
				"                # print(\"No {} data at/before date: {}... settings to 0s\".format(k, closest_date))\n",
				"                X[i,row_counter] = sector_row\n",
				"            else:\n",
				"                # Should expect to have data here. If not, this is a problem (has SP5 data and previous sector data, but this would imply a hole in the data)\n",
				"                if len(sector.iloc[sector.index == closest_date]) != 1:\n",
				"                    print(\"ERROR: No {} data for date {} where expected. Using previous day of {}.\".format(k, closest_date, sector.iloc[sector.index < closest_date].index[-1]))\n",
				"                    sector_row = torch.tensor(sector.iloc[sector.index < closest_date].values[-1,:])\n",
				"                else:\n",
				"                    sector_row = torch.tensor(sector.iloc[sector.index == closest_date].values[0])\n",
				"                \n",
				"                X[i,row_counter] = sector_row\n",
				"            \n",
				"    # Prepare the labels\n",
				"    Y = torch.zeros((labels.shape[0], labels.shape[1]), dtype=torch.float64)\n",
				"    for i, col in enumerate(labels.columns):\n",
				"        index = ordering.index(descs[col])\n",
				"        Y[:,index] = torch.tensor(labels[col].values)\n",
				"    \n",
				"    return X, Y\n",
				"    \n",
				"X, Y = data_to_XY(sectors_data, sp5, labels)"
			]
		},
		{
			"cell_type": "markdown",
			"metadata": {},
			"source": [
				"### Examine Data\n",
				"Our X data consists of 3 dimensions: (monthly data points, each sector of the S&P500 and the S&P500 itself, TA features for each stock)"
			]
		},
		{
			"cell_type": "code",
			"execution_count": 7,
			"metadata": {},
			"outputs": [
				{
					"data": {
						"text/plain": [
							"torch.Size([82, 12, 8])"
						]
					},
					"execution_count": 7,
					"metadata": {},
					"output_type": "execute_result"
				}
			],
			"source": [
				"X.shape"
			]
		},
		{
			"cell_type": "markdown",
			"metadata": {},
			"source": [
				"Our Y data consists of 2 dimensions (monthly data points, 1 value for each of the sectors). Note that the sector dimension is 1 less than the X data (no labels for S&P500 data)"
			]
		},
		{
			"cell_type": "code",
			"execution_count": 8,
			"metadata": {},
			"outputs": [
				{
					"data": {
						"text/plain": [
							"torch.Size([82, 11])"
						]
					},
					"execution_count": 8,
					"metadata": {},
					"output_type": "execute_result"
				}
			],
			"source": [
				"Y.shape"
			]
		},
		{
			"cell_type": "markdown",
			"metadata": {},
			"source": [
				"### Train/Test Split"
			]
		},
		{
			"cell_type": "code",
			"execution_count": 9,
			"metadata": {},
			"outputs": [],
			"source": [
				"# Use train_test_split() to get training and test sets.\n",
				"X_train, X_test, y_train, y_test = train_test_split(X, Y, test_size=0.33, random_state=226)"
			]
		},
		{
			"cell_type": "markdown",
			"metadata": {},
			"source": [
				"### Scale our data"
			]
		},
		{
			"cell_type": "code",
			"execution_count": 10,
			"metadata": {},
			"outputs": [],
			"source": [
				"sclr = StandardScaler()\n",
				"num_instances, num_stocks, num_features = X_train.shape\n",
				"X_train = X_train.reshape((-1, num_features))\n",
				"X_train = sclr.fit_transform(X_train)"
			]
		},
		{
			"cell_type": "code",
			"execution_count": 11,
			"metadata": {},
			"outputs": [],
			"source": [
				"# Return X_train data to how it was\n",
				"X_train = torch.from_numpy(X_train.reshape((num_instances, num_stocks, num_features)))"
			]
		},
		{
			"cell_type": "code",
			"execution_count": 12,
			"metadata": {},
			"outputs": [],
			"source": [
				"# This will be for testing\n",
				"num_instances, num_stocks, num_features = X_test.shape\n",
				"X_test = X_test.reshape((-1, num_features))\n",
				"X_test = sclr.transform(X_test)\n",
				"X_test = torch.from_numpy(X_test.reshape((num_instances, num_stocks, num_features)))"
			]
		},
		{
			"cell_type": "markdown",
			"metadata": {},
			"source": [
				"### Dataset and Dataloader"
			]
		},
		{
			"cell_type": "code",
			"execution_count": 13,
			"metadata": {},
			"outputs": [],
			"source": [
				"class StockDataset(torch.utils.data.Dataset):\n",
				"  def __init__(self, X, Y):\n",
				"    self.X = X\n",
				"    self.Y = Y\n",
				"\n",
				"  def __len__(self):\n",
				"    return len(self.X)\n",
				"\n",
				"  def __getitem__(self, index):\n",
				"    return self.X[index], self.Y[index]"
			]
		},
		{
			"cell_type": "code",
			"execution_count": 14,
			"metadata": {},
			"outputs": [],
			"source": [
				"train_dataset = StockDataset(X_train, y_train)\n",
				"test_dataset = StockDataset(X_test, y_test)\n",
				"params = {'batch_size': 1,\n",
				"          'shuffle': False,\n",
				"          'num_workers': 0}\n",
				"train_dataloader = torch.utils.data.DataLoader(train_dataset, **params)\n",
				"test_dataloader = torch.utils.data.DataLoader(test_dataset, **params)"
			]
		},
		{
			"cell_type": "code",
			"execution_count": 15,
			"metadata": {},
			"outputs": [],
			"source": [
				"# # Input Dimension is the number of features * number of stocks (because it will be flattened),\n",
				"# # Output Dimension is the number of stocks - 1 (because only predicting if each stock will over/underperform the S&P500, -1 because S&P500 included in data)\n",
				"# # Output Dimension is 2, indicating we want 2 values, each one determining if each stock will over/underperform the S&P500, respectively\n",
				"# num_classes = 2 # Overperform/underperform\n",
				"# model = MVP(X.shape[1] * X.shape[2], Y.shape[1] * num_classes)\n",
				"# optimizer = torch.optim.SGD(model.parameters(), lr=0.05)"
			]
		},
		{
			"cell_type": "code",
			"execution_count": 16,
			"metadata": {},
			"outputs": [],
			"source": [
				"num_classes = 2 # Overperform/underperform\n",
				"lstm_layers = 3\n",
				"lstm_hidden_size = 1500\n",
				"batch_size = 1\n",
				"model = LSTM_MVP(X.shape[1] * X.shape[2], Y.shape[1] * num_classes, lstm_num_layers=lstm_layers, lstm_hidden_size=lstm_hidden_size)\n",
				"optimizer = torch.optim.SGD(model.parameters(), lr=0.0005)"
			]
		},
		{
			"cell_type": "code",
			"execution_count": 17,
			"metadata": {},
			"outputs": [],
			"source": [
				"# model = model.to('cuda')\n",
				"\n",
				"# If your computer does not have \"cuda\", use \"cpu\" instead.\n",
				"model = model.to('cpu')"
			]
		},
		{
			"cell_type": "code",
			"execution_count": 18,
			"metadata": {},
			"outputs": [],
			"source": [
				"# Computes the % accuracy of our model vs actual results (does not weight how far off our model was, unlike cross entropy)\n",
				"def compute_accuracy(Y_hat, Y, debug=False):\n",
				"  bin_preds = Y_hat.argmax(dim=1)\n",
				"  if debug:\n",
				"    print(((Y - bin_preds) == 0).sum().item(), 'correct out of', len(Y))\n",
				"    print(f'{((Y - bin_preds) == 0).sum().item() / len(Y) * 100.:0.2f}%')\n",
				"  return ((Y - bin_preds) == 0).sum().item() / len(Y) * 100\n",
				"  \n",
				"\n",
				"def clean_nans(Y_hat, Y):\n",
				"  # print(\"Was shape\", Y_hat.shape, Y.shape)\n",
				"  # with torch.no_grad():\n",
				"  nan_mask = Y < 0\n",
				"  # Remove the NaN column from our labels\n",
				"  Y = Y[~nan_mask]\n",
				"  # Remove corresponding column from our prediction\n",
				"  Y_hat = Y_hat[~nan_mask]\n",
				"  # print(\"New shape\", Y_hat.shape, Y.shape)\n",
				"  return Y_hat, Y\n",
				"\n",
				"def train(model, optimizer, epochs=50, ret_loss=False):\n",
				"\n",
				"  criterion = nn.CrossEntropyLoss()\n",
				"  # loss_data = torch.zeros((epochs, len(train_dataloader)))\n",
				"  # val_loss_data = torch.zeros((epochs, len(test_dataloader)))\n",
				"  \n",
				"  loss_data = torch.zeros((epochs))\n",
				"  val_loss_data = torch.zeros((epochs))\n",
				"  train_accuracy = torch.zeros((epochs))\n",
				"  val_accuracy = torch.zeros((epochs))\n",
				"  \n",
				"  for e in range(epochs):\n",
				"\n",
				"    run_loss = 0\n",
				"    batch_loss = 0.0\n",
				"    batch_accuracy = torch.zeros((len(train_dataloader)))\n",
				"    \n",
				"    model.train()\n",
				"    h = model.init_hidden(batch_size) # intialize the hidden state\n",
				"    for i, data in enumerate(train_dataloader, 0):\n",
				"      X, Y = data\n",
				"      Y = Y.to(torch.long).reshape(-1).to(device=device)\n",
				"      X = X.float().to(device=device)\n",
				"      optimizer.zero_grad()\n",
				"\n",
				"      h = tuple([each.data for each in h])\n",
				"      pred, h  = model(X, h)\n",
				"      pred = pred.reshape(-1, 2)\n",
				"      \n",
				"      # pred takes shape (11 rows x 2 cols), each of the 11 sectors have 2 predictions (over/underperform)\n",
				"      # y will be a 1-D array of size 11, one 1/0 value for each row (sector)\n",
				"      \n",
				"      # If a sector does not exist yet (label is NaN), NaN values should not be included in loss calculation\n",
				"      if (Y < 0).sum() > 0:\n",
				"        pred, Y = clean_nans(pred, Y)\n",
				"      \n",
				"      batch_accuracy[i] = compute_accuracy(pred, Y)\n",
				"      loss = criterion(pred, Y)\n",
				"      loss.backward()\n",
				"      optimizer.step()\n",
				"\n",
				"      # print statistics\n",
				"      l = loss.item()\n",
				"      # loss_data[e,i] = l\n",
				"      batch_loss += l\n",
				"      run_loss += l\n",
				"      # if i % 10 == 9:    # print every 10 mini-batches\n",
				"      #     print(f'[{e + 1}, {i + 1:5d}] loss: {batch_loss / 2000:.3f}')\n",
				"      #     batch_loss = 0.0\n",
				"      \n",
				"    val_run_loss = 0\n",
				"    \n",
				"    model.eval()\n",
				"    val_batch_accuracy = torch.zeros((len(test_dataloader)))\n",
				"    val_h  = model.init_hidden(batch_size)\n",
				"    for i, data in enumerate(test_dataloader, 0):\n",
				"      with torch.no_grad():\n",
				"        X, Y = data\n",
				"        Y = Y.to(torch.long).reshape(-1).to(device=device)\n",
				"        X = X.float().to(device=device)\n",
				"\n",
				"        val_h = tuple([each.data for each in val_h])\n",
				"        pred, val_h = model(X, val_h)\n",
				"        pred = pred.reshape(-1, 2)\n",
				"        \n",
				"        if (Y < 0).sum() > 0:\n",
				"          pred, Y = clean_nans(pred, Y)\n",
				"      \n",
				"        val_batch_accuracy[i] = compute_accuracy(pred, Y)\n",
				"        loss = criterion(pred, Y)\n",
				"        l = loss.item()\n",
				"        # val_loss_data[e,i] = l\n",
				"        val_run_loss += l\n",
				"    \n",
				"    loss_data[e] = run_loss / len(train_dataloader)\n",
				"    val_loss_data [e] = val_run_loss / len(test_dataloader)\n",
				"    val_accuracy[e] = val_batch_accuracy.mean()\n",
				"    train_accuracy[e] = batch_accuracy.mean()\n",
				"    \n",
				"    if e % 50 == 49:\n",
				"      print(f\"Epoch {e+1} loss: {run_loss / len(train_dataloader):.3f} Accuracy: {train_accuracy[e]:0.2f}%, Val Loss: {val_run_loss / len(test_dataloader):.3f} Accuracy: {val_accuracy[e]:0.2f}%\")\n",
				"  print('Finished Training')\n",
				"  if ret_loss:\n",
				"    return loss_data, val_loss_data, train_accuracy, val_accuracy"
			]
		},
		{
			"cell_type": "code",
			"execution_count": 19,
			"metadata": {},
			"outputs": [
				{
					"name": "stdout",
					"output_type": "stream",
					"text": [
						"Epoch 50 loss: 0.692 Accuracy: 51.52%, Val Loss: 0.694 Accuracy: 47.66%\n",
						"Epoch 100 loss: 0.688 Accuracy: 51.34%, Val Loss: 0.692 Accuracy: 50.92%\n",
						"Epoch 150 loss: 0.685 Accuracy: 55.87%, Val Loss: 0.691 Accuracy: 51.61%\n",
						"Epoch 200 loss: 0.683 Accuracy: 58.84%, Val Loss: 0.690 Accuracy: 53.14%\n",
						"Epoch 250 loss: 0.681 Accuracy: 58.84%, Val Loss: 0.690 Accuracy: 53.14%\n",
						"Epoch 300 loss: 0.680 Accuracy: 58.84%, Val Loss: 0.690 Accuracy: 53.14%\n",
						"Epoch 350 loss: 0.678 Accuracy: 58.84%, Val Loss: 0.690 Accuracy: 53.14%\n",
						"Epoch 400 loss: 0.677 Accuracy: 58.84%, Val Loss: 0.690 Accuracy: 53.14%\n",
						"Finished Training\n"
					]
				}
			],
			"source": [
				"train_loss, val_loss, train_accuracy, val_accuracy = train(model, optimizer, epochs=400, ret_loss=True)"
			]
		},
		{
			"cell_type": "code",
			"execution_count": 20,
			"metadata": {},
			"outputs": [
				{
					"data": {
						"text/plain": [
							"<matplotlib.legend.Legend at 0x174afd430>"
						]
					},
					"execution_count": 20,
					"metadata": {},
					"output_type": "execute_result"
				},
				{
					"data": {
						"image/png": "[encoded data removed]",
						"text/plain": [
							"<Figure size 432x288 with 1 Axes>"
						]
					},
					"metadata": {
						"needs_background": "light"
					},
					"output_type": "display_data"
				},
				{
					"data": {
						"image/png": "[encoded data removed]",
						"text/plain": [
							"<Figure size 432x288 with 1 Axes>"
						]
					},
					"metadata": {
						"needs_background": "light"
					},
					"output_type": "display_data"
				}
			],
			"source": [
				"import matplotlib.pyplot as plt\n",
				"\n",
				"plt.title(\"Loss\")\n",
				"plt.plot(train_loss.reshape(-1), label=\"Train\")\n",
				"plt.plot(val_loss.reshape(-1), label=\"Validation\")\n",
				"plt.legend()\n",
				"\n",
				"plt.figure()\n",
				"plt.title(\"Accuracy\")\n",
				"plt.plot(train_accuracy.reshape(-1), label=\"Train\")\n",
				"plt.plot(val_accuracy.reshape(-1), label=\"Validation\")\n",
				"plt.legend()"
			]
		},
		{
			"cell_type": "code",
			"execution_count": 21,
			"metadata": {},
			"outputs": [
				{
					"data": {
						"text/plain": [
							"'\\nMVP 1. About 0.665 loss with basic MVP (only features layer) (0.01 lr). Validation loss unchanged.\\n\\nMVP 2. With classify layer (essentially a much deeper neural network @ 0.01 lr), reached 0.691 loss. Validation loss started to come down as well!\\n\\nMVP 2. @ 0.05 lr, train: 0.655, val: 0.690\\n\\nMVP 2 @ 2000 epochs, 0.05 lr, train: 0.653, val: 0.692\\n\\n\\n\\nTLT, bonds go up, yields go down\\ncompare the 10 year vs 2 year bond (or 6 month vs 2 year), if closer together, potentially means higher risk\\n\\nLSTM_MVP 1. train: 0.36, val: 1.2\\n\\n2. Epoch 150 loss: 0.676, Val Loss: 0.695\\n\\n2. Epoch 100 loss: 0.675, Val Loss: 0.694\\n\\n2. Epoch 100 loss: 0.676, Val Loss: 0.695\\n\\n2. No shuffle. Epoch 100 loss: 0.673 Accuracy: 58.84%, Val Loss: 0.694 Accuracy: 27.55%\\nEpoch 100 loss: 0.694 Accuracy: 49.28%, Val Loss: 0.695 Accuracy: 26.01%\\nEpoch 100 loss: 0.693 Accuracy: 50.78%, Val Loss: 0.694 Accuracy: 50.07%\\n\\n2. Epoch 1800 loss: 0.673 Accuracy: 58.84%, Val Loss: 0.693 Accuracy: 53.14%\\n\\n2. Epoch 2000 loss: 0.673 Accuracy: 58.84%, Val Loss: 0.695 Accuracy: 53.14%\\n'"
						]
					},
					"execution_count": 21,
					"metadata": {},
					"output_type": "execute_result"
				}
			],
			"source": [
				"'''\n",
				"MVP 1. About 0.665 loss with basic MVP (only features layer) (0.01 lr). Validation loss unchanged.\n",
				"\n",
				"MVP 2. With classify layer (essentially a much deeper neural network @ 0.01 lr), reached 0.691 loss. Validation loss started to come down as well!\n",
				"\n",
				"MVP 2. @ 0.05 lr, train: 0.655, val: 0.690\n",
				"\n",
				"MVP 2 @ 2000 epochs, 0.05 lr, train: 0.653, val: 0.692\n",
				"\n",
				"\n",
				"\n",
				"TLT, bonds go up, yields go down\n",
				"compare the 10 year vs 2 year bond (or 6 month vs 2 year), if closer together, potentially means higher risk\n",
				"\n",
				"LSTM_MVP 1. train: 0.36, val: 1.2\n",
				"\n",
				"2. Epoch 150 loss: 0.676, Val Loss: 0.695\n",
				"\n",
				"2. Epoch 100 loss: 0.675, Val Loss: 0.694\n",
				"\n",
				"2. Epoch 100 loss: 0.676, Val Loss: 0.695\n",
				"\n",
				"2. No shuffle. Epoch 100 loss: 0.673 Accuracy: 58.84%, Val Loss: 0.694 Accuracy: 27.55%\n",
				"Epoch 100 loss: 0.694 Accuracy: 49.28%, Val Loss: 0.695 Accuracy: 26.01%\n",
				"Epoch 100 loss: 0.693 Accuracy: 50.78%, Val Loss: 0.694 Accuracy: 50.07%\n",
				"\n",
				"2. Epoch 1800 loss: 0.673 Accuracy: 58.84%, Val Loss: 0.693 Accuracy: 53.14%\n",
				"\n",
				"2. Epoch 2000 loss: 0.673 Accuracy: 58.84%, Val Loss: 0.695 Accuracy: 53.14%\n",
				"'''\n"
			]
		},
		{
			"cell_type": "code",
			"execution_count": null,
			"metadata": {},
			"outputs": [],
			"source": []
		}
	],
	"metadata": {
		"interpreter": {
			"hash": "aee8b7b246df8f9039afb4144a1f6fd8d2ca17a180786b69acc140d282b71a49"
		},
		"kernelspec": {
			"display_name": "Python 3.9.12 64-bit",
			"language": "python",
			"name": "python3"
		},
		"language_info": {
			"codemirror_mode": {
				"name": "ipython",
				"version": 3
			},
			"file_extension": ".py",
			"mimetype": "text/x-python",
			"name": "python",
			"nbconvert_exporter": "python",
			"pygments_lexer": "ipython3",
			"version": "3.9.12"
		},
		"orig_nbformat": 4
	},
	"nbformat": 4,
	"nbformat_minor": 2
}
